{
 "cells": [
  {
   "cell_type": "markdown",
   "id": "b3931fe9",
   "metadata": {},
   "source": [
    "### Load Models"
   ]
  },
  {
   "cell_type": "code",
   "execution_count": 1,
   "id": "7d86908e",
   "metadata": {},
   "outputs": [],
   "source": [
    "teacher_path=\"models/checkpoints/teacher.pth\"\n",
    "student_path=\"models/checkpoints/student.pth\""
   ]
  },
  {
   "cell_type": "code",
   "execution_count": 7,
   "id": "c91a79bd",
   "metadata": {},
   "outputs": [
    {
     "name": "stderr",
     "output_type": "stream",
     "text": [
      "/usr/local/python/3.12.1/lib/python3.12/site-packages/torchvision/models/_utils.py:208: UserWarning: The parameter 'pretrained' is deprecated since 0.13 and may be removed in the future, please use 'weights' instead.\n",
      "  warnings.warn(\n",
      "/usr/local/python/3.12.1/lib/python3.12/site-packages/torchvision/models/_utils.py:223: UserWarning: Arguments other than a weight enum or `None` for 'weights' are deprecated since 0.13 and may be removed in the future. The current behavior is equivalent to passing `weights=ResNet18_Weights.IMAGENET1K_V1`. You can also use `weights=ResNet18_Weights.DEFAULT` to get the most up-to-date weights.\n",
      "  warnings.warn(msg)\n"
     ]
    }
   ],
   "source": [
    "import sys\n",
    "sys.path.append('../')  # or whatever relative path goes up to the parent of `utils`\n",
    "\n",
    "import torch\n",
    "from models.student import StudentVisionEagle\n",
    "from models.teacher import VisionEagle\n",
    "\n",
    "# from utils.model_utils import load_model\n",
    "\n",
    "# load_model(model_class, checkpoint_path, model_name, device='cuda' if torch.cuda.is_available() else 'cpu'):\n",
    "student_model=StudentVisionEagle()\n",
    "teacher_model=VisionEagle()\n",
    "\n",
    "student_model.load_state_dict(torch.load(\"../models/checkpoints/student.pth\",map_location=torch.device('cpu') ))\n",
    "teacher_model.load_state_dict(torch.load(\"../models/checkpoints/teacher.pth\",map_location=torch.device('cpu') ))\n",
    "\n",
    "# teacher_model.load_state_dict(torch.load(teacher_path))\n",
    "\n",
    "device=\"cuda\" if torch.cuda.is_available() else \"cpu\"\n",
    "\n"
   ]
  },
  {
   "cell_type": "code",
   "execution_count": null,
   "metadata": {},
   "outputs": [],
   "source": []
  },
  {
   "cell_type": "code",
   "execution_count": null,
   "id": "f629a7a9",
   "metadata": {},
   "outputs": [],
   "source": []
  }
 ],
 "metadata": {
  "kernelspec": {
   "display_name": "Python 3 (ipykernel)",
   "language": "python",
   "name": "python3"
  },
  "language_info": {
   "codemirror_mode": {
    "name": "ipython",
    "version": 3
   },
   "file_extension": ".py",
   "mimetype": "text/x-python",
   "name": "python",
   "nbconvert_exporter": "python",
   "pygments_lexer": "ipython3",
   "version": "3.12.1"
  }
 },
 "nbformat": 4,
 "nbformat_minor": 5
}
