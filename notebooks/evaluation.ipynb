{
 "cells": [
  {
   "cell_type": "code",
   "execution_count": 1,
   "id": "ff373f64",
   "metadata": {
    "execution": {
     "iopub.execute_input": "2025-07-15T15:22:05.338610Z",
     "iopub.status.busy": "2025-07-15T15:22:05.338208Z",
     "iopub.status.idle": "2025-07-15T15:22:10.119397Z",
     "shell.execute_reply": "2025-07-15T15:22:10.117752Z"
    },
    "papermill": {
     "duration": 4.787696,
     "end_time": "2025-07-15T15:22:10.121436",
     "exception": false,
     "start_time": "2025-07-15T15:22:05.333740",
     "status": "completed"
    },
    "tags": []
   },
   "outputs": [
    {
     "name": "stdout",
     "output_type": "stream",
     "text": [
      "Cloning into 'making_models_efficient'...\r\n",
      "remote: Enumerating objects: 142, done.\u001b[K\r\n",
      "remote: Counting objects: 100% (85/85), done.\u001b[K\r\n",
      "remote: Compressing objects: 100% (76/76), done.\u001b[K\r\n",
      "remote: Total 142 (delta 40), reused 32 (delta 9), pack-reused 57 (from 1)\u001b[K\r\n",
      "Receiving objects: 100% (142/142), 88.06 MiB | 34.03 MiB/s, done.\r\n",
      "Resolving deltas: 100% (59/59), done.\r\n"
     ]
    }
   ],
   "source": [
    "!git clone https://github.com/sfarrukhm/making_models_efficient.git\n",
    "import os\n",
    "os.chdir(\"/kaggle/working/making_models_efficient/\")"
   ]
  },
  {
   "cell_type": "code",
   "execution_count": 2,
   "id": "ae07acba",
   "metadata": {
    "execution": {
     "iopub.execute_input": "2025-07-15T15:22:10.130238Z",
     "iopub.status.busy": "2025-07-15T15:22:10.129885Z",
     "iopub.status.idle": "2025-07-15T15:22:10.135663Z",
     "shell.execute_reply": "2025-07-15T15:22:10.134095Z"
    },
    "papermill": {
     "duration": 0.012116,
     "end_time": "2025-07-15T15:22:10.137742",
     "exception": false,
     "start_time": "2025-07-15T15:22:10.125626",
     "status": "completed"
    },
    "tags": []
   },
   "outputs": [],
   "source": [
    "import warnings\n",
    "warnings.filterwarnings(\"ignore\")"
   ]
  },
  {
   "cell_type": "markdown",
   "id": "a062910c",
   "metadata": {
    "papermill": {
     "duration": 0.002854,
     "end_time": "2025-07-15T15:22:10.143964",
     "exception": false,
     "start_time": "2025-07-15T15:22:10.141110",
     "status": "completed"
    },
    "tags": []
   },
   "source": [
    "### Create test data loader"
   ]
  },
  {
   "cell_type": "code",
   "execution_count": 3,
   "id": "f15c804a",
   "metadata": {
    "execution": {
     "iopub.execute_input": "2025-07-15T15:22:10.152276Z",
     "iopub.status.busy": "2025-07-15T15:22:10.151769Z",
     "iopub.status.idle": "2025-07-15T15:22:34.914332Z",
     "shell.execute_reply": "2025-07-15T15:22:34.913188Z"
    },
    "papermill": {
     "duration": 24.768792,
     "end_time": "2025-07-15T15:22:34.916347",
     "exception": false,
     "start_time": "2025-07-15T15:22:10.147555",
     "status": "completed"
    },
    "tags": []
   },
   "outputs": [
    {
     "data": {
      "text/plain": [
       "(['buildings', 'forest', 'glacier', 'mountain', 'sea', 'street'], 6)"
      ]
     },
     "execution_count": 3,
     "metadata": {},
     "output_type": "execute_result"
    }
   ],
   "source": [
    "from utils.data_utils import make_torch_dataset_from_image_folder\n",
    "from torchvision import datasets, transforms\n",
    "from torch.utils.data import DataLoader\n",
    "test_path = \"/kaggle/input/intel-image-classification/seg_test/seg_test\"\n",
    "\n",
    "w,h=100,100\n",
    "global_transforms = transforms.Compose([\n",
    "  transforms.Resize((w, h)),\n",
    "  # transforms.Grayscale(),\n",
    "  transforms.ToTensor()\n",
    "])\n",
    "\n",
    "\n",
    "test_data=make_torch_dataset_from_image_folder(root=test_path,transform=global_transforms)\n",
    "test_dataloader = DataLoader(test_data, batch_size=64, shuffle=False)\n",
    "\n",
    "\n",
    "class_names = test_data.classes\n",
    "class_num = len(class_names)\n",
    "class_names, class_num"
   ]
  },
  {
   "cell_type": "markdown",
   "id": "247aa1d3",
   "metadata": {
    "papermill": {
     "duration": 0.003019,
     "end_time": "2025-07-15T15:22:34.922830",
     "exception": false,
     "start_time": "2025-07-15T15:22:34.919811",
     "status": "completed"
    },
    "tags": []
   },
   "source": [
    "### Load Models"
   ]
  },
  {
   "cell_type": "code",
   "execution_count": 4,
   "id": "f2eed234",
   "metadata": {
    "execution": {
     "iopub.execute_input": "2025-07-15T15:22:34.930616Z",
     "iopub.status.busy": "2025-07-15T15:22:34.930135Z",
     "iopub.status.idle": "2025-07-15T15:22:34.934958Z",
     "shell.execute_reply": "2025-07-15T15:22:34.933920Z"
    },
    "papermill": {
     "duration": 0.010661,
     "end_time": "2025-07-15T15:22:34.936679",
     "exception": false,
     "start_time": "2025-07-15T15:22:34.926018",
     "status": "completed"
    },
    "tags": []
   },
   "outputs": [],
   "source": [
    "teacher_path=\"models/checkpoints/teacher.pth\"\n",
    "student_path=\"models/checkpoints/student.pth\""
   ]
  },
  {
   "cell_type": "code",
   "execution_count": 5,
   "id": "8df492f0",
   "metadata": {
    "execution": {
     "iopub.execute_input": "2025-07-15T15:22:34.944519Z",
     "iopub.status.busy": "2025-07-15T15:22:34.944185Z",
     "iopub.status.idle": "2025-07-15T15:22:36.121202Z",
     "shell.execute_reply": "2025-07-15T15:22:36.120129Z"
    },
    "papermill": {
     "duration": 1.183109,
     "end_time": "2025-07-15T15:22:36.123039",
     "exception": false,
     "start_time": "2025-07-15T15:22:34.939930",
     "status": "completed"
    },
    "tags": []
   },
   "outputs": [
    {
     "name": "stderr",
     "output_type": "stream",
     "text": [
      "Downloading: \"https://download.pytorch.org/models/resnet18-f37072fd.pth\" to /root/.cache/torch/hub/checkpoints/resnet18-f37072fd.pth\n",
      "100%|██████████| 44.7M/44.7M [00:00<00:00, 147MB/s]\n"
     ]
    }
   ],
   "source": [
    "import sys\n",
    "sys.path.append('../')  # or whatever relative path goes up to the parent of `utils`\n",
    "\n",
    "import torch\n",
    "from models.student import StudentVisionEagle\n",
    "from models.teacher import VisionEagle\n",
    "\n",
    "# from utils.model_utils import load_model\n",
    "\n",
    "# load_model(model_class, checkpoint_path, model_name, device='cuda' if torch.cuda.is_available() else 'cpu'):\n",
    "student_model=StudentVisionEagle()\n",
    "teacher_model=VisionEagle()\n",
    "\n",
    "student_model.load_state_dict(torch.load(\"models/checkpoints/student.pth\",map_location=torch.device('cpu') ))\n",
    "teacher_model.load_state_dict(torch.load(\"models/checkpoints/teacher.pth\",map_location=torch.device('cpu') ))\n",
    "\n",
    "\n",
    "device=\"cuda\" if torch.cuda.is_available() else \"cpu\"\n",
    "\n",
    "teacher_model = teacher_model.to(device)\n",
    "student_model = student_model.to(device)\n"
   ]
  },
  {
   "cell_type": "markdown",
   "id": "2ba5d7f8",
   "metadata": {
    "papermill": {
     "duration": 0.003351,
     "end_time": "2025-07-15T15:22:36.130940",
     "exception": false,
     "start_time": "2025-07-15T15:22:36.127589",
     "status": "completed"
    },
    "tags": []
   },
   "source": [
    "### Evaluate"
   ]
  },
  {
   "cell_type": "code",
   "execution_count": 6,
   "id": "b3851d11",
   "metadata": {
    "execution": {
     "iopub.execute_input": "2025-07-15T15:22:36.139023Z",
     "iopub.status.busy": "2025-07-15T15:22:36.138683Z",
     "iopub.status.idle": "2025-07-15T15:24:35.399589Z",
     "shell.execute_reply": "2025-07-15T15:24:35.398375Z"
    },
    "papermill": {
     "duration": 119.267116,
     "end_time": "2025-07-15T15:24:35.401449",
     "exception": false,
     "start_time": "2025-07-15T15:22:36.134333",
     "status": "completed"
    },
    "tags": []
   },
   "outputs": [
    {
     "name": "stderr",
     "output_type": "stream",
     "text": [
      "Evaluating Accuracy: 100%|██████████| 47/47 [01:18<00:00,  1.68s/it]\n",
      "Evaluating Accuracy: 100%|██████████| 47/47 [00:32<00:00,  1.44it/s]\n"
     ]
    },
    {
     "name": "stdout",
     "output_type": "stream",
     "text": [
      "\n",
      "📊 KD Evaluation Summary:\n",
      "Teacher Accuracy : 89.50%\n",
      "Student Accuracy : 81.13%\n",
      "Teacher Latency  : 42.49 ms/image\n",
      "Student Latency  : 10.46 ms/image\n"
     ]
    }
   ],
   "source": [
    "from utils.evaluate_trained_models import evaluate_accuracy, measure_latency\n",
    "\n",
    "# Evaluate accuracy\n",
    "teacher_acc = evaluate_accuracy(teacher_model, test_dataloader, device)\n",
    "student_acc = evaluate_accuracy(student_model, test_dataloader, device)\n",
    "\n",
    "# Evaluate latency\n",
    "teacher_latency = measure_latency(teacher_model, device=device)\n",
    "student_latency = measure_latency(student_model, device=device)\n",
    "\n",
    "# Print comparison\n",
    "print(\"\\n📊 KD Evaluation Summary:\")\n",
    "print(f\"Teacher Accuracy : {teacher_acc*100:.2f}%\")\n",
    "print(f\"Student Accuracy : {student_acc*100:.2f}%\")\n",
    "print(f\"Teacher Latency  : {teacher_latency:.2f} ms/image\")\n",
    "print(f\"Student Latency  : {student_latency:.2f} ms/image\")"
   ]
  }
 ],
 "metadata": {
  "kaggle": {
   "accelerator": "none",
   "dataSources": [
    {
     "datasetId": 111880,
     "sourceId": 269359,
     "sourceType": "datasetVersion"
    }
   ],
   "dockerImageVersionId": 31089,
   "isGpuEnabled": false,
   "isInternetEnabled": true,
   "language": "python",
   "sourceType": "notebook"
  },
  "kernelspec": {
   "display_name": "Python 3",
   "language": "python",
   "name": "python3"
  },
  "language_info": {
   "codemirror_mode": {
    "name": "ipython",
    "version": 3
   },
   "file_extension": ".py",
   "mimetype": "text/x-python",
   "name": "python",
   "nbconvert_exporter": "python",
   "pygments_lexer": "ipython3",
   "version": "3.11.13"
  },
  "papermill": {
   "default_parameters": {},
   "duration": 158.314318,
   "end_time": "2025-07-15T15:24:38.387607",
   "environment_variables": {},
   "exception": null,
   "input_path": "__notebook__.ipynb",
   "output_path": "__notebook__.ipynb",
   "parameters": {},
   "start_time": "2025-07-15T15:22:00.073289",
   "version": "2.6.0"
  }
 },
 "nbformat": 4,
 "nbformat_minor": 5
}
